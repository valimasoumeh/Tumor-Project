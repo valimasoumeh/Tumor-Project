{
 "cells": [
  {
   "cell_type": "code",
   "execution_count": 3,
   "id": "7ca55f50",
   "metadata": {},
   "outputs": [],
   "source": [
    "import numpy as np\n",
    "import pandas as pd\n",
    "\n",
    "import matplotlib.pyplot as plt\n",
    "import matplotlib.cm as cm\n",
    "import seaborn as sns\n",
    "\n",
    "\n",
    "from sklearn.svm import SVC\n",
    "from sklearn.linear_model import LogisticRegression\n",
    "from sklearn.neighbors import KNeighborsClassifier\n",
    "from sklearn.ensemble import RandomForestClassifier\n",
    "from sklearn.preprocessing import StandardScaler\n",
    "from sklearn.metrics import accuracy_score, classification_report,f1_score, confusion_matrix\n",
    "\n",
    "from sklearn.pipeline import Pipeline\n",
    "from sklearn.decomposition import PCA\n",
    "from sklearn.discriminant_analysis import LinearDiscriminantAnalysis as LDA"
   ]
  },
  {
   "cell_type": "code",
   "execution_count": 4,
   "id": "eda9f721",
   "metadata": {},
   "outputs": [
    {
     "data": {
      "text/html": [
       "<div>\n",
       "<style scoped>\n",
       "    .dataframe tbody tr th:only-of-type {\n",
       "        vertical-align: middle;\n",
       "    }\n",
       "\n",
       "    .dataframe tbody tr th {\n",
       "        vertical-align: top;\n",
       "    }\n",
       "\n",
       "    .dataframe thead th {\n",
       "        text-align: right;\n",
       "    }\n",
       "</style>\n",
       "<table border=\"1\" class=\"dataframe\">\n",
       "  <thead>\n",
       "    <tr style=\"text-align: right;\">\n",
       "      <th></th>\n",
       "      <th>0</th>\n",
       "      <th>1</th>\n",
       "      <th>2</th>\n",
       "      <th>3</th>\n",
       "      <th>4</th>\n",
       "      <th>5</th>\n",
       "      <th>6</th>\n",
       "      <th>7</th>\n",
       "      <th>8</th>\n",
       "      <th>9</th>\n",
       "    </tr>\n",
       "  </thead>\n",
       "  <tbody>\n",
       "    <tr>\n",
       "      <th>0</th>\n",
       "      <td>0.288585</td>\n",
       "      <td>-0.020294</td>\n",
       "      <td>-0.132905</td>\n",
       "      <td>-0.995279</td>\n",
       "      <td>-0.983111</td>\n",
       "      <td>-0.913526</td>\n",
       "      <td>-0.995112</td>\n",
       "      <td>-0.983185</td>\n",
       "      <td>-0.923527</td>\n",
       "      <td>-0.934724</td>\n",
       "    </tr>\n",
       "    <tr>\n",
       "      <th>1</th>\n",
       "      <td>0.278419</td>\n",
       "      <td>-0.016411</td>\n",
       "      <td>-0.123520</td>\n",
       "      <td>-0.998245</td>\n",
       "      <td>-0.975300</td>\n",
       "      <td>-0.960322</td>\n",
       "      <td>-0.998807</td>\n",
       "      <td>-0.974914</td>\n",
       "      <td>-0.957686</td>\n",
       "      <td>-0.943068</td>\n",
       "    </tr>\n",
       "    <tr>\n",
       "      <th>2</th>\n",
       "      <td>0.279653</td>\n",
       "      <td>-0.019467</td>\n",
       "      <td>-0.113462</td>\n",
       "      <td>-0.995380</td>\n",
       "      <td>-0.967187</td>\n",
       "      <td>-0.978944</td>\n",
       "      <td>-0.996520</td>\n",
       "      <td>-0.963668</td>\n",
       "      <td>-0.977469</td>\n",
       "      <td>-0.938692</td>\n",
       "    </tr>\n",
       "    <tr>\n",
       "      <th>3</th>\n",
       "      <td>0.279174</td>\n",
       "      <td>-0.026201</td>\n",
       "      <td>-0.123283</td>\n",
       "      <td>-0.996091</td>\n",
       "      <td>-0.983403</td>\n",
       "      <td>-0.990675</td>\n",
       "      <td>-0.997099</td>\n",
       "      <td>-0.982750</td>\n",
       "      <td>-0.989302</td>\n",
       "      <td>-0.938692</td>\n",
       "    </tr>\n",
       "    <tr>\n",
       "      <th>4</th>\n",
       "      <td>0.276629</td>\n",
       "      <td>-0.016570</td>\n",
       "      <td>-0.115362</td>\n",
       "      <td>-0.998139</td>\n",
       "      <td>-0.980817</td>\n",
       "      <td>-0.990482</td>\n",
       "      <td>-0.998321</td>\n",
       "      <td>-0.979672</td>\n",
       "      <td>-0.990441</td>\n",
       "      <td>-0.942469</td>\n",
       "    </tr>\n",
       "    <tr>\n",
       "      <th>...</th>\n",
       "      <td>...</td>\n",
       "      <td>...</td>\n",
       "      <td>...</td>\n",
       "      <td>...</td>\n",
       "      <td>...</td>\n",
       "      <td>...</td>\n",
       "      <td>...</td>\n",
       "      <td>...</td>\n",
       "      <td>...</td>\n",
       "      <td>...</td>\n",
       "    </tr>\n",
       "    <tr>\n",
       "      <th>1995</th>\n",
       "      <td>0.239866</td>\n",
       "      <td>-0.016819</td>\n",
       "      <td>-0.127938</td>\n",
       "      <td>-0.479384</td>\n",
       "      <td>-0.167162</td>\n",
       "      <td>-0.520564</td>\n",
       "      <td>-0.508147</td>\n",
       "      <td>-0.183497</td>\n",
       "      <td>-0.483609</td>\n",
       "      <td>-0.435364</td>\n",
       "    </tr>\n",
       "    <tr>\n",
       "      <th>1996</th>\n",
       "      <td>0.234524</td>\n",
       "      <td>-0.010957</td>\n",
       "      <td>-0.099738</td>\n",
       "      <td>-0.500860</td>\n",
       "      <td>-0.167850</td>\n",
       "      <td>-0.508214</td>\n",
       "      <td>-0.537495</td>\n",
       "      <td>-0.191106</td>\n",
       "      <td>-0.469048</td>\n",
       "      <td>-0.435364</td>\n",
       "    </tr>\n",
       "    <tr>\n",
       "      <th>1997</th>\n",
       "      <td>0.212202</td>\n",
       "      <td>-0.009611</td>\n",
       "      <td>-0.058073</td>\n",
       "      <td>-0.487049</td>\n",
       "      <td>-0.174565</td>\n",
       "      <td>-0.463627</td>\n",
       "      <td>-0.524110</td>\n",
       "      <td>-0.172802</td>\n",
       "      <td>-0.435630</td>\n",
       "      <td>-0.457439</td>\n",
       "    </tr>\n",
       "    <tr>\n",
       "      <th>1998</th>\n",
       "      <td>0.273924</td>\n",
       "      <td>0.016351</td>\n",
       "      <td>-0.082030</td>\n",
       "      <td>-0.480790</td>\n",
       "      <td>-0.088519</td>\n",
       "      <td>-0.466508</td>\n",
       "      <td>-0.506083</td>\n",
       "      <td>-0.113374</td>\n",
       "      <td>-0.438114</td>\n",
       "      <td>-0.457439</td>\n",
       "    </tr>\n",
       "    <tr>\n",
       "      <th>1999</th>\n",
       "      <td>0.359350</td>\n",
       "      <td>-0.023102</td>\n",
       "      <td>-0.075862</td>\n",
       "      <td>-0.440916</td>\n",
       "      <td>-0.083580</td>\n",
       "      <td>-0.465084</td>\n",
       "      <td>-0.478698</td>\n",
       "      <td>-0.103542</td>\n",
       "      <td>-0.443367</td>\n",
       "      <td>-0.306826</td>\n",
       "    </tr>\n",
       "  </tbody>\n",
       "</table>\n",
       "<p>2000 rows × 10 columns</p>\n",
       "</div>"
      ],
      "text/plain": [
       "             0         1         2         3         4         5         6  \\\n",
       "0     0.288585 -0.020294 -0.132905 -0.995279 -0.983111 -0.913526 -0.995112   \n",
       "1     0.278419 -0.016411 -0.123520 -0.998245 -0.975300 -0.960322 -0.998807   \n",
       "2     0.279653 -0.019467 -0.113462 -0.995380 -0.967187 -0.978944 -0.996520   \n",
       "3     0.279174 -0.026201 -0.123283 -0.996091 -0.983403 -0.990675 -0.997099   \n",
       "4     0.276629 -0.016570 -0.115362 -0.998139 -0.980817 -0.990482 -0.998321   \n",
       "...        ...       ...       ...       ...       ...       ...       ...   \n",
       "1995  0.239866 -0.016819 -0.127938 -0.479384 -0.167162 -0.520564 -0.508147   \n",
       "1996  0.234524 -0.010957 -0.099738 -0.500860 -0.167850 -0.508214 -0.537495   \n",
       "1997  0.212202 -0.009611 -0.058073 -0.487049 -0.174565 -0.463627 -0.524110   \n",
       "1998  0.273924  0.016351 -0.082030 -0.480790 -0.088519 -0.466508 -0.506083   \n",
       "1999  0.359350 -0.023102 -0.075862 -0.440916 -0.083580 -0.465084 -0.478698   \n",
       "\n",
       "             7         8         9  \n",
       "0    -0.983185 -0.923527 -0.934724  \n",
       "1    -0.974914 -0.957686 -0.943068  \n",
       "2    -0.963668 -0.977469 -0.938692  \n",
       "3    -0.982750 -0.989302 -0.938692  \n",
       "4    -0.979672 -0.990441 -0.942469  \n",
       "...        ...       ...       ...  \n",
       "1995 -0.183497 -0.483609 -0.435364  \n",
       "1996 -0.191106 -0.469048 -0.435364  \n",
       "1997 -0.172802 -0.435630 -0.457439  \n",
       "1998 -0.113374 -0.438114 -0.457439  \n",
       "1999 -0.103542 -0.443367 -0.306826  \n",
       "\n",
       "[2000 rows x 10 columns]"
      ]
     },
     "execution_count": 4,
     "metadata": {},
     "output_type": "execute_result"
    }
   ],
   "source": [
    "x_training_data = pd.read_csv('C:\\\\Users\\\\Masoumeh\\\\Human_Activity_Recognition\\\\train\\\\X_train.txt', sep=\" \", header=None)\n",
    "x_training_data "
   ]
  },
  {
   "cell_type": "code",
   "execution_count": 5,
   "id": "1845588f",
   "metadata": {},
   "outputs": [],
   "source": [
    "y_training_data = pd.read_csv('C:\\\\Users\\\\Masoumeh\\\\Human_Activity_Recognition\\\\train\\\\y_train.txt', sep=\" \", header=None)"
   ]
  },
  {
   "cell_type": "code",
   "execution_count": 6,
   "id": "2ab8d136",
   "metadata": {},
   "outputs": [],
   "source": [
    "x_testing_data = pd.read_csv('C:\\\\Users\\\\Masoumeh\\\\Human_Activity_Recognition\\\\test\\\\X_test.txt', sep=\" \", header=None)"
   ]
  },
  {
   "cell_type": "code",
   "execution_count": 7,
   "id": "a6d15298",
   "metadata": {},
   "outputs": [],
   "source": [
    "y_testing_data = pd.read_csv('C:\\\\Users\\\\Masoumeh\\\\Human_Activity_Recognition\\\\test\\\\y_test.txt', sep=\" \", header=None)"
   ]
  },
  {
   "cell_type": "code",
   "execution_count": 8,
   "id": "b4437987",
   "metadata": {},
   "outputs": [
    {
     "data": {
      "text/html": [
       "<div>\n",
       "<style scoped>\n",
       "    .dataframe tbody tr th:only-of-type {\n",
       "        vertical-align: middle;\n",
       "    }\n",
       "\n",
       "    .dataframe tbody tr th {\n",
       "        vertical-align: top;\n",
       "    }\n",
       "\n",
       "    .dataframe thead th {\n",
       "        text-align: right;\n",
       "    }\n",
       "</style>\n",
       "<table border=\"1\" class=\"dataframe\">\n",
       "  <thead>\n",
       "    <tr style=\"text-align: right;\">\n",
       "      <th></th>\n",
       "      <th>0</th>\n",
       "      <th>1</th>\n",
       "      <th>2</th>\n",
       "      <th>3</th>\n",
       "      <th>4</th>\n",
       "      <th>5</th>\n",
       "      <th>6</th>\n",
       "      <th>7</th>\n",
       "      <th>8</th>\n",
       "      <th>9</th>\n",
       "    </tr>\n",
       "  </thead>\n",
       "  <tbody>\n",
       "    <tr>\n",
       "      <th>0</th>\n",
       "      <td>0.288585</td>\n",
       "      <td>-0.020294</td>\n",
       "      <td>-0.132905</td>\n",
       "      <td>-0.995279</td>\n",
       "      <td>-0.983111</td>\n",
       "      <td>-0.913526</td>\n",
       "      <td>-0.995112</td>\n",
       "      <td>-0.983185</td>\n",
       "      <td>-0.923527</td>\n",
       "      <td>-0.934724</td>\n",
       "    </tr>\n",
       "    <tr>\n",
       "      <th>1</th>\n",
       "      <td>0.278419</td>\n",
       "      <td>-0.016411</td>\n",
       "      <td>-0.123520</td>\n",
       "      <td>-0.998245</td>\n",
       "      <td>-0.975300</td>\n",
       "      <td>-0.960322</td>\n",
       "      <td>-0.998807</td>\n",
       "      <td>-0.974914</td>\n",
       "      <td>-0.957686</td>\n",
       "      <td>-0.943068</td>\n",
       "    </tr>\n",
       "    <tr>\n",
       "      <th>2</th>\n",
       "      <td>0.279653</td>\n",
       "      <td>-0.019467</td>\n",
       "      <td>-0.113462</td>\n",
       "      <td>-0.995380</td>\n",
       "      <td>-0.967187</td>\n",
       "      <td>-0.978944</td>\n",
       "      <td>-0.996520</td>\n",
       "      <td>-0.963668</td>\n",
       "      <td>-0.977469</td>\n",
       "      <td>-0.938692</td>\n",
       "    </tr>\n",
       "    <tr>\n",
       "      <th>3</th>\n",
       "      <td>0.279174</td>\n",
       "      <td>-0.026201</td>\n",
       "      <td>-0.123283</td>\n",
       "      <td>-0.996091</td>\n",
       "      <td>-0.983403</td>\n",
       "      <td>-0.990675</td>\n",
       "      <td>-0.997099</td>\n",
       "      <td>-0.982750</td>\n",
       "      <td>-0.989302</td>\n",
       "      <td>-0.938692</td>\n",
       "    </tr>\n",
       "    <tr>\n",
       "      <th>4</th>\n",
       "      <td>0.276629</td>\n",
       "      <td>-0.016570</td>\n",
       "      <td>-0.115362</td>\n",
       "      <td>-0.998139</td>\n",
       "      <td>-0.980817</td>\n",
       "      <td>-0.990482</td>\n",
       "      <td>-0.998321</td>\n",
       "      <td>-0.979672</td>\n",
       "      <td>-0.990441</td>\n",
       "      <td>-0.942469</td>\n",
       "    </tr>\n",
       "  </tbody>\n",
       "</table>\n",
       "</div>"
      ],
      "text/plain": [
       "          0         1         2         3         4         5         6  \\\n",
       "0  0.288585 -0.020294 -0.132905 -0.995279 -0.983111 -0.913526 -0.995112   \n",
       "1  0.278419 -0.016411 -0.123520 -0.998245 -0.975300 -0.960322 -0.998807   \n",
       "2  0.279653 -0.019467 -0.113462 -0.995380 -0.967187 -0.978944 -0.996520   \n",
       "3  0.279174 -0.026201 -0.123283 -0.996091 -0.983403 -0.990675 -0.997099   \n",
       "4  0.276629 -0.016570 -0.115362 -0.998139 -0.980817 -0.990482 -0.998321   \n",
       "\n",
       "          7         8         9  \n",
       "0 -0.983185 -0.923527 -0.934724  \n",
       "1 -0.974914 -0.957686 -0.943068  \n",
       "2 -0.963668 -0.977469 -0.938692  \n",
       "3 -0.982750 -0.989302 -0.938692  \n",
       "4 -0.979672 -0.990441 -0.942469  "
      ]
     },
     "execution_count": 8,
     "metadata": {},
     "output_type": "execute_result"
    }
   ],
   "source": [
    "x_training_data.head()"
   ]
  },
  {
   "cell_type": "code",
   "execution_count": 9,
   "id": "4f2a5fcc",
   "metadata": {},
   "outputs": [
    {
     "name": "stdout",
     "output_type": "stream",
     "text": [
      "<class 'pandas.core.frame.DataFrame'>\n",
      "RangeIndex: 2000 entries, 0 to 1999\n",
      "Data columns (total 10 columns):\n",
      " #   Column  Non-Null Count  Dtype  \n",
      "---  ------  --------------  -----  \n",
      " 0   0       2000 non-null   float64\n",
      " 1   1       2000 non-null   float64\n",
      " 2   2       2000 non-null   float64\n",
      " 3   3       2000 non-null   float64\n",
      " 4   4       2000 non-null   float64\n",
      " 5   5       2000 non-null   float64\n",
      " 6   6       2000 non-null   float64\n",
      " 7   7       2000 non-null   float64\n",
      " 8   8       2000 non-null   float64\n",
      " 9   9       2000 non-null   float64\n",
      "dtypes: float64(10)\n",
      "memory usage: 156.4 KB\n"
     ]
    }
   ],
   "source": [
    "x_training_data.info()"
   ]
  },
  {
   "cell_type": "code",
   "execution_count": 10,
   "id": "9742675e",
   "metadata": {},
   "outputs": [
    {
     "data": {
      "text/plain": [
       "<bound method NDFrame.describe of              0         1         2         3         4         5         6  \\\n",
       "0     0.288585 -0.020294 -0.132905 -0.995279 -0.983111 -0.913526 -0.995112   \n",
       "1     0.278419 -0.016411 -0.123520 -0.998245 -0.975300 -0.960322 -0.998807   \n",
       "2     0.279653 -0.019467 -0.113462 -0.995380 -0.967187 -0.978944 -0.996520   \n",
       "3     0.279174 -0.026201 -0.123283 -0.996091 -0.983403 -0.990675 -0.997099   \n",
       "4     0.276629 -0.016570 -0.115362 -0.998139 -0.980817 -0.990482 -0.998321   \n",
       "...        ...       ...       ...       ...       ...       ...       ...   \n",
       "1995  0.239866 -0.016819 -0.127938 -0.479384 -0.167162 -0.520564 -0.508147   \n",
       "1996  0.234524 -0.010957 -0.099738 -0.500860 -0.167850 -0.508214 -0.537495   \n",
       "1997  0.212202 -0.009611 -0.058073 -0.487049 -0.174565 -0.463627 -0.524110   \n",
       "1998  0.273924  0.016351 -0.082030 -0.480790 -0.088519 -0.466508 -0.506083   \n",
       "1999  0.359350 -0.023102 -0.075862 -0.440916 -0.083580 -0.465084 -0.478698   \n",
       "\n",
       "             7         8         9  \n",
       "0    -0.983185 -0.923527 -0.934724  \n",
       "1    -0.974914 -0.957686 -0.943068  \n",
       "2    -0.963668 -0.977469 -0.938692  \n",
       "3    -0.982750 -0.989302 -0.938692  \n",
       "4    -0.979672 -0.990441 -0.942469  \n",
       "...        ...       ...       ...  \n",
       "1995 -0.183497 -0.483609 -0.435364  \n",
       "1996 -0.191106 -0.469048 -0.435364  \n",
       "1997 -0.172802 -0.435630 -0.457439  \n",
       "1998 -0.113374 -0.438114 -0.457439  \n",
       "1999 -0.103542 -0.443367 -0.306826  \n",
       "\n",
       "[2000 rows x 10 columns]>"
      ]
     },
     "execution_count": 10,
     "metadata": {},
     "output_type": "execute_result"
    }
   ],
   "source": [
    "x_training_data.describe"
   ]
  },
  {
   "cell_type": "code",
   "execution_count": 11,
   "id": "1fd71d70",
   "metadata": {},
   "outputs": [
    {
     "data": {
      "text/plain": [
       "<bound method DataFrame.corr of              0         1         2         3         4         5         6  \\\n",
       "0     0.288585 -0.020294 -0.132905 -0.995279 -0.983111 -0.913526 -0.995112   \n",
       "1     0.278419 -0.016411 -0.123520 -0.998245 -0.975300 -0.960322 -0.998807   \n",
       "2     0.279653 -0.019467 -0.113462 -0.995380 -0.967187 -0.978944 -0.996520   \n",
       "3     0.279174 -0.026201 -0.123283 -0.996091 -0.983403 -0.990675 -0.997099   \n",
       "4     0.276629 -0.016570 -0.115362 -0.998139 -0.980817 -0.990482 -0.998321   \n",
       "...        ...       ...       ...       ...       ...       ...       ...   \n",
       "1995  0.239866 -0.016819 -0.127938 -0.479384 -0.167162 -0.520564 -0.508147   \n",
       "1996  0.234524 -0.010957 -0.099738 -0.500860 -0.167850 -0.508214 -0.537495   \n",
       "1997  0.212202 -0.009611 -0.058073 -0.487049 -0.174565 -0.463627 -0.524110   \n",
       "1998  0.273924  0.016351 -0.082030 -0.480790 -0.088519 -0.466508 -0.506083   \n",
       "1999  0.359350 -0.023102 -0.075862 -0.440916 -0.083580 -0.465084 -0.478698   \n",
       "\n",
       "             7         8         9  \n",
       "0    -0.983185 -0.923527 -0.934724  \n",
       "1    -0.974914 -0.957686 -0.943068  \n",
       "2    -0.963668 -0.977469 -0.938692  \n",
       "3    -0.982750 -0.989302 -0.938692  \n",
       "4    -0.979672 -0.990441 -0.942469  \n",
       "...        ...       ...       ...  \n",
       "1995 -0.183497 -0.483609 -0.435364  \n",
       "1996 -0.191106 -0.469048 -0.435364  \n",
       "1997 -0.172802 -0.435630 -0.457439  \n",
       "1998 -0.113374 -0.438114 -0.457439  \n",
       "1999 -0.103542 -0.443367 -0.306826  \n",
       "\n",
       "[2000 rows x 10 columns]>"
      ]
     },
     "execution_count": 11,
     "metadata": {},
     "output_type": "execute_result"
    }
   ],
   "source": [
    "x_training_data.corr"
   ]
  },
  {
   "cell_type": "code",
   "execution_count": 12,
   "id": "61b0bc44",
   "metadata": {},
   "outputs": [
    {
     "data": {
      "text/plain": [
       "<AxesSubplot:>"
      ]
     },
     "execution_count": 12,
     "metadata": {},
     "output_type": "execute_result"
    },
    {
     "data": {
      "image/png": "[encoded data removed]",
      "text/plain": [
       "<Figure size 432x288 with 2 Axes>"
      ]
     },
     "metadata": {
      "needs_background": "light"
     },
     "output_type": "display_data"
    }
   ],
   "source": [
    "sns.heatmap(x_training_data.corr(),cmap=\"BrBG\",annot=False)"
   ]
  },
  {
   "cell_type": "code",
   "execution_count": 13,
   "id": "6910caaf",
   "metadata": {},
   "outputs": [
    {
     "data": {
      "image/png": "[encoded data removed]",
      "text/plain": [
       "<Figure size 432x288 with 1 Axes>"
      ]
     },
     "metadata": {
      "needs_background": "light"
     },
     "output_type": "display_data"
    }
   ],
   "source": [
    "# s, c = np.random.rand(4, 30)\n",
    "# s *= 10**2.\n",
    "\n",
    "# fig, ax = plt.subplots()\n",
    "plt.scatter(x_training_data.loc[:,1], x_training_data.loc[:,8])\n",
    "\n",
    "plt.show()"
   ]
  },
  {
   "cell_type": "code",
   "execution_count": 14,
   "id": "a9ff602b",
   "metadata": {},
   "outputs": [],
   "source": [
    "svm_classifier = SVC(kernel='rbf')"
   ]
  },
  {
   "cell_type": "code",
   "execution_count": 15,
   "id": "c9f94fbb",
   "metadata": {},
   "outputs": [],
   "source": [
    "pipe_steps = [('scaler', StandardScaler()), ('svc', svm_classifier)]\n",
    "pipe = Pipeline(steps=pipe_steps)"
   ]
  },
  {
   "cell_type": "code",
   "execution_count": 16,
   "id": "9a6177c6",
   "metadata": {},
   "outputs": [],
   "source": [
    "search_hyper_params = {'svc__C': [0.01, 0.1, 1 , 8, 10 , 100, 1000], 'svc__gamma': [2, 1, 0.1, 0.01, 0.001,0.0005, 0.0001]}"
   ]
  },
  {
   "cell_type": "code",
   "execution_count": 27,
   "id": "a854bcf5",
   "metadata": {},
   "outputs": [],
   "source": [
    "from sklearn.model_selection import GridSearchCV"
   ]
  },
  {
   "cell_type": "code",
   "execution_count": 26,
   "id": "eec3b806",
   "metadata": {},
   "outputs": [],
   "source": [
    "grid_search = GridSearchCV(pipe, search_hyper_params, cv=25, n_jobs=-1)"
   ]
  },
  {
   "cell_type": "code",
   "execution_count": 19,
   "id": "1e6fe388",
   "metadata": {},
   "outputs": [
    {
     "name": "stderr",
     "output_type": "stream",
     "text": [
      "C:\\Users\\Masoumeh\\anaconda3\\lib\\site-packages\\sklearn\\utils\\validation.py:63: DataConversionWarning: A column-vector y was passed when a 1d array was expected. Please change the shape of y to (n_samples, ), for example using ravel().\n",
      "  return f(*args, **kwargs)\n"
     ]
    },
    {
     "data": {
      "text/plain": [
       "GridSearchCV(cv=25,\n",
       "             estimator=Pipeline(steps=[('scaler', StandardScaler()),\n",
       "                                       ('svc', SVC())]),\n",
       "             n_jobs=-1,\n",
       "             param_grid={'svc__C': [0.01, 0.1, 1, 8, 10, 100, 1000],\n",
       "                         'svc__gamma': [2, 1, 0.1, 0.01, 0.001, 0.0005,\n",
       "                                        0.0001]})"
      ]
     },
     "execution_count": 19,
     "metadata": {},
     "output_type": "execute_result"
    }
   ],
   "source": [
    "grid_search.fit(x_training_data, y_training_data)"
   ]
  },
  {
   "cell_type": "code",
   "execution_count": 20,
   "id": "33fd0b77",
   "metadata": {},
   "outputs": [
    {
     "data": {
      "text/plain": [
       "{'svc__C': 100, 'svc__gamma': 0.1}"
      ]
     },
     "execution_count": 20,
     "metadata": {},
     "output_type": "execute_result"
    }
   ],
   "source": [
    "grid_search.best_params_"
   ]
  },
  {
   "cell_type": "code",
   "execution_count": 21,
   "id": "2d475bfa",
   "metadata": {},
   "outputs": [],
   "source": [
    "prediction = grid_search.predict(x_testing_data)"
   ]
  },
  {
   "cell_type": "code",
   "execution_count": 22,
   "id": "a6a2a6e7",
   "metadata": {},
   "outputs": [
    {
     "name": "stdout",
     "output_type": "stream",
     "text": [
      "[[132  48   6   0   0   0]\n",
      " [ 68  73   8   0   0   0]\n",
      " [  4  12 118   0   0   0]\n",
      " [  0   0   0  69  70  31]\n",
      " [  0   0   0  30 119  29]\n",
      " [  0   0   0   7  22 154]]\n"
     ]
    }
   ],
   "source": [
    "print(confusion_matrix(y_testing_data, prediction))"
   ]
  },
  {
   "cell_type": "code",
   "execution_count": 23,
   "id": "a025f04c",
   "metadata": {},
   "outputs": [
    {
     "name": "stdout",
     "output_type": "stream",
     "text": [
      "              precision    recall  f1-score   support\n",
      "\n",
      "         1.0       0.65      0.71      0.68       186\n",
      "         2.0       0.55      0.49      0.52       149\n",
      "         3.0       0.89      0.88      0.89       134\n",
      "         4.0       0.65      0.41      0.50       170\n",
      "         5.0       0.56      0.67      0.61       178\n",
      "         6.0       0.72      0.84      0.78       183\n",
      "\n",
      "    accuracy                           0.67      1000\n",
      "   macro avg       0.67      0.67      0.66      1000\n",
      "weighted avg       0.66      0.67      0.66      1000\n",
      "\n"
     ]
    }
   ],
   "source": [
    "print(classification_report(y_testing_data, prediction))"
   ]
  },
  {
   "cell_type": "code",
   "execution_count": 24,
   "id": "67712194",
   "metadata": {},
   "outputs": [
    {
     "name": "stdout",
     "output_type": "stream",
     "text": [
      "[0.67692308 0.5177305  0.88721805 0.5        0.61182519 0.77581864]\n"
     ]
    }
   ],
   "source": [
    "f1_score_SVC=print(f1_score(y_testing_data, prediction,average=None))"
   ]
  },
  {
   "cell_type": "markdown",
   "id": "ec002f2c",
   "metadata": {},
   "source": [
    "kernel poly"
   ]
  },
  {
   "cell_type": "code",
   "execution_count": 65,
   "id": "744413a8",
   "metadata": {},
   "outputs": [],
   "source": [
    "svm_classifier = SVC(kernel='poly')"
   ]
  },
  {
   "cell_type": "code",
   "execution_count": 66,
   "id": "47f2b2cb",
   "metadata": {},
   "outputs": [],
   "source": [
    "pipe_steps = [('scaler', StandardScaler()), ('svc', svm_classifier)]\n",
    "pipe = Pipeline(steps=pipe_steps)"
   ]
  },
  {
   "cell_type": "code",
   "execution_count": 67,
   "id": "04ac883b",
   "metadata": {},
   "outputs": [],
   "source": [
    "search_hyper_params = {'svc__C': [0.01, 0.1, 1 , 8, 10 , 100, 1000], 'svc__gamma': [2, 1, 0.1, 0.01, 0.001,0.0005, 0.0001]}"
   ]
  },
  {
   "cell_type": "code",
   "execution_count": 68,
   "id": "71bc5430",
   "metadata": {},
   "outputs": [],
   "source": [
    "from sklearn.model_selection import GridSearchCV"
   ]
  },
  {
   "cell_type": "code",
   "execution_count": 69,
   "id": "f9d8126d",
   "metadata": {},
   "outputs": [],
   "source": [
    "grid_search = GridSearchCV(pipe,search_hyper_params, cv=25, n_jobs=-1)"
   ]
  },
  {
   "cell_type": "code",
   "execution_count": null,
   "id": "e19e93ac",
   "metadata": {},
   "outputs": [],
   "source": [
    "grid_search.fit(x_training_data, y_training_data)"
   ]
  },
  {
   "cell_type": "code",
   "execution_count": null,
   "id": "d663b611",
   "metadata": {},
   "outputs": [],
   "source": [
    "prediction = grid_search.predict(x_testing_data)"
   ]
  },
  {
   "cell_type": "code",
   "execution_count": null,
   "id": "26a6f56a",
   "metadata": {},
   "outputs": [],
   "source": [
    "print(confusion_matrix(y_testing_data, prediction))"
   ]
  },
  {
   "cell_type": "code",
   "execution_count": null,
   "id": "5fbfe494",
   "metadata": {},
   "outputs": [],
   "source": [
    "print(classification_report(y_testing_data, prediction))"
   ]
  },
  {
   "cell_type": "code",
   "execution_count": null,
   "id": "30fdf4a2",
   "metadata": {},
   "outputs": [],
   "source": [
    "f1_score_SVC=print(f1_score(y_testing_data, prediction,average=None))"
   ]
  },
  {
   "cell_type": "markdown",
   "id": "c40ee52e",
   "metadata": {},
   "source": [
    "kernel Linear"
   ]
  },
  {
   "cell_type": "code",
   "execution_count": null,
   "id": "53b4d276",
   "metadata": {},
   "outputs": [],
   "source": [
    "svm_classifier = SVC(kernel='linear')"
   ]
  },
  {
   "cell_type": "code",
   "execution_count": null,
   "id": "d9c349ec",
   "metadata": {},
   "outputs": [],
   "source": [
    "pipe_steps = [('scaler', StandardScaler()), ('svc', svm_classifier)]\n",
    "pipe = Pipeline(steps=pipe_steps)"
   ]
  },
  {
   "cell_type": "code",
   "execution_count": null,
   "id": "831b2920",
   "metadata": {},
   "outputs": [],
   "source": [
    "search_hyper_params = {'svc__C': [0.01, 0.1, 1 , 8, 10 , 100, 1000], 'svc__gamma': [2, 1, 0.1, 0.01, 0.001,0.0005, 0.0001]}"
   ]
  },
  {
   "cell_type": "code",
   "execution_count": null,
   "id": "827f1857",
   "metadata": {},
   "outputs": [],
   "source": [
    "from sklearn.model_selection import GridSearchCV"
   ]
  },
  {
   "cell_type": "code",
   "execution_count": null,
   "id": "7c40dc0c",
   "metadata": {},
   "outputs": [],
   "source": [
    "grid_search = GridSearchCV(pipe,search_hyper_params, cv=25, n_jobs=-1)"
   ]
  },
  {
   "cell_type": "code",
   "execution_count": null,
   "id": "5e8df1b7",
   "metadata": {},
   "outputs": [],
   "source": [
    "prediction = grid_search.predict(x_testing_data)"
   ]
  },
  {
   "cell_type": "code",
   "execution_count": null,
   "id": "80395166",
   "metadata": {},
   "outputs": [],
   "source": [
    "print(confusion_matrix(y_testing_data, prediction))"
   ]
  },
  {
   "cell_type": "code",
   "execution_count": null,
   "id": "e0f32b05",
   "metadata": {},
   "outputs": [],
   "source": [
    "print(classification_report(y_testing_data, prediction))"
   ]
  },
  {
   "cell_type": "code",
   "execution_count": null,
   "id": "89c51615",
   "metadata": {},
   "outputs": [],
   "source": [
    "f1_score_SVC=print(f1_score(y_testing_data, y_predict_lda,average=None))"
   ]
  },
  {
   "cell_type": "markdown",
   "id": "296a9933",
   "metadata": {},
   "source": [
    "# PCA"
   ]
  },
  {
   "cell_type": "code",
   "execution_count": 28,
   "id": "821aab59",
   "metadata": {},
   "outputs": [],
   "source": [
    "# scale data before pca\n",
    "scaler = StandardScaler()\n",
    "x_training_data = scaler.fit_transform(x_training_data)\n",
    "x_testing_data = scaler.transform(x_testing_data)"
   ]
  },
  {
   "cell_type": "code",
   "execution_count": 29,
   "id": "0f5ef7af",
   "metadata": {},
   "outputs": [],
   "source": [
    "data_pca = PCA(n_components=None)\n",
    "pca_components = data_pca.fit(x_training_data)\n",
    "x_training_data = pca_components.fit_transform(x_training_data)\n",
    "x_testing_data = pca_components.transform(x_testing_data)"
   ]
  },
  {
   "cell_type": "code",
   "execution_count": 30,
   "id": "74446b2d",
   "metadata": {},
   "outputs": [
    {
     "data": {
      "text/plain": [
       "1.0"
      ]
     },
     "execution_count": 30,
     "metadata": {},
     "output_type": "execute_result"
    }
   ],
   "source": [
    "sum(pca_components.explained_variance_ratio_[:50])"
   ]
  },
  {
   "cell_type": "code",
   "execution_count": 31,
   "id": "78f798e2",
   "metadata": {},
   "outputs": [
    {
     "name": "stderr",
     "output_type": "stream",
     "text": [
      "C:\\Users\\Masoumeh\\anaconda3\\lib\\site-packages\\sklearn\\utils\\validation.py:63: DataConversionWarning: A column-vector y was passed when a 1d array was expected. Please change the shape of y to (n_samples, ), for example using ravel().\n",
      "  return f(*args, **kwargs)\n"
     ]
    },
    {
     "data": {
      "text/plain": [
       "SVC(kernel='linear')"
      ]
     },
     "execution_count": 31,
     "metadata": {},
     "output_type": "execute_result"
    }
   ],
   "source": [
    "svc_clf = SVC(kernel=\"linear\")\n",
    "svc_clf.fit(x_training_data, y_training_data)"
   ]
  },
  {
   "cell_type": "code",
   "execution_count": 38,
   "id": "1732dd88",
   "metadata": {},
   "outputs": [],
   "source": [
    "y_predict_lda = svc_clf.predict(x_testing_data)"
   ]
  },
  {
   "cell_type": "code",
   "execution_count": 39,
   "id": "4db05789",
   "metadata": {},
   "outputs": [
    {
     "name": "stdout",
     "output_type": "stream",
     "text": [
      "              precision    recall  f1-score   support\n",
      "\n",
      "         1.0       0.62      0.73      0.67       186\n",
      "         2.0       0.55      0.44      0.49       149\n",
      "         3.0       0.93      0.92      0.92       134\n",
      "         4.0       0.82      0.05      0.10       170\n",
      "         5.0       0.42      0.90      0.57       178\n",
      "         6.0       0.79      0.60      0.68       183\n",
      "\n",
      "    accuracy                           0.60      1000\n",
      "   macro avg       0.69      0.61      0.57      1000\n",
      "weighted avg       0.68      0.60      0.57      1000\n",
      "\n"
     ]
    }
   ],
   "source": [
    "print(classification_report(y_testing_data, y_predict))"
   ]
  },
  {
   "cell_type": "code",
   "execution_count": 56,
   "id": "bff1e5ee",
   "metadata": {},
   "outputs": [
    {
     "name": "stdout",
     "output_type": "stream",
     "text": [
      "0.618\n"
     ]
    }
   ],
   "source": [
    "f1_score_PCA=print(f1_score(y_testing_data, y_predict_lda,average=\"micro\"))"
   ]
  },
  {
   "cell_type": "markdown",
   "id": "56df0b58",
   "metadata": {},
   "source": [
    "# LDA"
   ]
  },
  {
   "cell_type": "code",
   "execution_count": 41,
   "id": "ac627071",
   "metadata": {},
   "outputs": [],
   "source": [
    "# scale data before Lda\n",
    "scaler = StandardScaler()\n",
    "x_training_data = scaler.fit_transform(x_training_data)\n",
    "x_testing_data = scaler.transform(x_testing_data)"
   ]
  },
  {
   "cell_type": "code",
   "execution_count": 42,
   "id": "47b9cdef",
   "metadata": {},
   "outputs": [
    {
     "name": "stderr",
     "output_type": "stream",
     "text": [
      "C:\\Users\\Masoumeh\\anaconda3\\lib\\site-packages\\sklearn\\utils\\validation.py:63: DataConversionWarning: A column-vector y was passed when a 1d array was expected. Please change the shape of y to (n_samples, ), for example using ravel().\n",
      "  return f(*args, **kwargs)\n"
     ]
    }
   ],
   "source": [
    "bc_lda = LDA()\n",
    "x_training_lda = bc_lda.fit_transform(x_training_data, y_training_data)\n",
    "x_testing_lda = bc_lda.transform(x_testing_data)"
   ]
  },
  {
   "cell_type": "code",
   "execution_count": 43,
   "id": "481ac499",
   "metadata": {},
   "outputs": [
    {
     "name": "stderr",
     "output_type": "stream",
     "text": [
      "C:\\Users\\Masoumeh\\anaconda3\\lib\\site-packages\\sklearn\\utils\\validation.py:63: DataConversionWarning: A column-vector y was passed when a 1d array was expected. Please change the shape of y to (n_samples, ), for example using ravel().\n",
      "  return f(*args, **kwargs)\n"
     ]
    },
    {
     "name": "stdout",
     "output_type": "stream",
     "text": [
      "              precision    recall  f1-score   support\n",
      "\n",
      "         1.0       0.71      0.70      0.71       186\n",
      "         2.0       0.57      0.54      0.56       149\n",
      "         3.0       0.88      0.94      0.91       134\n",
      "         4.0       0.71      0.06      0.11       170\n",
      "         5.0       0.53      0.65      0.58       178\n",
      "         6.0       0.52      0.84      0.64       183\n",
      "\n",
      "    accuracy                           0.62      1000\n",
      "   macro avg       0.65      0.62      0.58      1000\n",
      "weighted avg       0.65      0.62      0.58      1000\n",
      "\n"
     ]
    }
   ],
   "source": [
    "bc_model_lda = SVC(kernel=\"rbf\")\n",
    "bc_model_lda.fit(x_training_lda, y_training_data)\n",
    "y_predict_lda = bc_model_lda.predict(x_testing_lda)\n",
    "print(classification_report(y_testing_data, y_predict_lda))"
   ]
  },
  {
   "cell_type": "code",
   "execution_count": 54,
   "id": "de0137a7",
   "metadata": {},
   "outputs": [],
   "source": [
    "f1_score_LDA=f1_score(y_testing_data, y_predict_lda,average=\"micro\")"
   ]
  },
  {
   "cell_type": "code",
   "execution_count": 55,
   "id": "d2f997c7",
   "metadata": {},
   "outputs": [
    {
     "name": "stdout",
     "output_type": "stream",
     "text": [
      "0.618\n"
     ]
    }
   ],
   "source": [
    "print(f1_score_LDA)"
   ]
  },
  {
   "cell_type": "code",
   "execution_count": 59,
   "id": "eae57db0",
   "metadata": {},
   "outputs": [
    {
     "data": {
      "image/png": "[encoded data removed]",
      "text/plain": [
       "<Figure size 432x288 with 1 Axes>"
      ]
     },
     "metadata": {
      "needs_background": "light"
     },
     "output_type": "display_data"
    }
   ],
   "source": [
    "# x=[\"PCA\",\"LDA\"]\n",
    "# y=[f1_score_PCA, f1_score_LDA]\n",
    "# plt.scatter(x, y)\n",
    "# plt.show()"
   ]
  },
  {
   "cell_type": "code",
   "execution_count": null,
   "id": "6eea6c8a",
   "metadata": {},
   "outputs": [],
   "source": []
  }
 ],
 "metadata": {
  "kernelspec": {
   "display_name": "Python 3",
   "language": "python",
   "name": "python3"
  },
  "language_info": {
   "codemirror_mode": {
    "name": "ipython",
    "version": 3
   },
   "file_extension": ".py",
   "mimetype": "text/x-python",
   "name": "python",
   "nbconvert_exporter": "python",
   "pygments_lexer": "ipython3",
   "version": "3.8.8"
  }
 },
 "nbformat": 4,
 "nbformat_minor": 5
}
